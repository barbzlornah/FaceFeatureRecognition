{
 "cells": [
  {
   "cell_type": "markdown",
   "metadata": {},
   "source": [
    "# Face Feature Recognition"
   ]
  },
  {
   "cell_type": "markdown",
   "metadata": {},
   "source": [
    "# Step 1: Loading and presenting an image"
   ]
  },
  {
   "cell_type": "code",
   "execution_count": 1,
   "metadata": {},
   "outputs": [],
   "source": [
    "import cv2"
   ]
  },
  {
   "cell_type": "code",
   "execution_count": 2,
   "metadata": {},
   "outputs": [],
   "source": [
    "# read the image\n",
    "img = cv2.imread(\"E:/face.jpeg\")# read the image\n",
    "img = cv2.imread(\"E:/face.jpeg\")"
   ]
  },
  {
   "cell_type": "code",
   "execution_count": 3,
   "metadata": {},
   "outputs": [],
   "source": [
    "# show the image\n",
    "cv2.imshow(winname=\"Face\",mat=img)"
   ]
  },
  {
   "cell_type": "code",
   "execution_count": 6,
   "metadata": {},
   "outputs": [
    {
     "data": {
      "text/plain": [
       "-1"
      ]
     },
     "execution_count": 6,
     "metadata": {},
     "output_type": "execute_result"
    }
   ],
   "source": [
    "# wait for a key press to exit\n",
    "cv2.waitKey(delay=0)"
   ]
  },
  {
   "cell_type": "code",
   "execution_count": 7,
   "metadata": {},
   "outputs": [],
   "source": [
    "# close all windows\n",
    "cv2.destroyAllWindows()"
   ]
  },
  {
   "cell_type": "markdown",
   "metadata": {},
   "source": [
    "# Step 2: Face recognition"
   ]
  },
  {
   "cell_type": "code",
   "execution_count": 8,
   "metadata": {},
   "outputs": [],
   "source": [
    "import cv2\n",
    "import dlib"
   ]
  },
  {
   "cell_type": "code",
   "execution_count": 10,
   "metadata": {},
   "outputs": [],
   "source": [
    "# load the detector\n",
    "detector = dlib.get_frontal_face_detector()"
   ]
  },
  {
   "cell_type": "code",
   "execution_count": 11,
   "metadata": {},
   "outputs": [],
   "source": [
    "# read the image\n",
    "img = cv2.imread(\"E:/face.jpeg\")"
   ]
  },
  {
   "cell_type": "code",
   "execution_count": 12,
   "metadata": {},
   "outputs": [],
   "source": [
    "# Convert image into grayscale\n",
    "gray = cv2.cvtColor(src=img, code=cv2.COLOR_BGR2GRAY)"
   ]
  },
  {
   "cell_type": "code",
   "execution_count": 13,
   "metadata": {},
   "outputs": [],
   "source": [
    "# Use detector to find landmarks\n",
    "faces = detector(gray)"
   ]
  },
  {
   "cell_type": "code",
   "execution_count": 14,
   "metadata": {},
   "outputs": [],
   "source": [
    "for face in faces:\n",
    "    x1 = face.left() # left point\n",
    "    y1 = face.top() # top point\n",
    "    x2 = face.right() # right point\n",
    "    y2 = face.bottom() # bottom point\n",
    "    # Draw a rectangle"
   ]
  },
  {
   "cell_type": "code",
   "execution_count": 16,
   "metadata": {},
   "outputs": [
    {
     "data": {
      "text/plain": [
       "array([[[111, 134, 156],\n",
       "        [111, 134, 156],\n",
       "        [111, 134, 156],\n",
       "        ...,\n",
       "        [ 59,  54, 109],\n",
       "        [ 49,  44,  99],\n",
       "        [ 46,  41,  96]],\n",
       "\n",
       "       [[110, 133, 155],\n",
       "        [110, 133, 155],\n",
       "        [110, 133, 155],\n",
       "        ...,\n",
       "        [ 59,  54, 109],\n",
       "        [ 48,  43,  98],\n",
       "        [ 45,  40,  95]],\n",
       "\n",
       "       [[109, 132, 154],\n",
       "        [109, 132, 154],\n",
       "        [109, 132, 154],\n",
       "        ...,\n",
       "        [ 60,  55, 110],\n",
       "        [ 49,  44,  99],\n",
       "        [ 46,  41,  96]],\n",
       "\n",
       "       ...,\n",
       "\n",
       "       [[ 81,  34,  30],\n",
       "        [ 79,  32,  28],\n",
       "        [ 77,  30,  26],\n",
       "        ...,\n",
       "        [201,  78,  74],\n",
       "        [201,  78,  74],\n",
       "        [201,  78,  74]],\n",
       "\n",
       "       [[ 81,  34,  30],\n",
       "        [ 79,  32,  28],\n",
       "        [ 77,  30,  26],\n",
       "        ...,\n",
       "        [202,  79,  75],\n",
       "        [201,  78,  74],\n",
       "        [201,  78,  74]],\n",
       "\n",
       "       [[ 82,  35,  31],\n",
       "        [ 80,  33,  29],\n",
       "        [ 77,  30,  26],\n",
       "        ...,\n",
       "        [203,  80,  76],\n",
       "        [202,  79,  75],\n",
       "        [203,  80,  76]]], dtype=uint8)"
      ]
     },
     "execution_count": 16,
     "metadata": {},
     "output_type": "execute_result"
    }
   ],
   "source": [
    "# Draw a rectangle\n",
    "cv2.rectangle(img=img, pt1=(x1, y1), pt2=(x2, y2), color=(0, 255, 0), thickness=4)"
   ]
  },
  {
   "cell_type": "code",
   "execution_count": 17,
   "metadata": {},
   "outputs": [],
   "source": [
    "# show the image\n",
    "cv2.imshow(winname=\"Face\", mat=img)"
   ]
  },
  {
   "cell_type": "code",
   "execution_count": 18,
   "metadata": {},
   "outputs": [
    {
     "data": {
      "text/plain": [
       "-1"
      ]
     },
     "execution_count": 18,
     "metadata": {},
     "output_type": "execute_result"
    }
   ],
   "source": [
    "# Wait for a key press to exit\n",
    "cv2.waitKey(delay=0)"
   ]
  },
  {
   "cell_type": "code",
   "execution_count": 19,
   "metadata": {},
   "outputs": [],
   "source": [
    "# Close all windows\n",
    "cv2.destroyAllWindows()"
   ]
  },
  {
   "cell_type": "markdown",
   "metadata": {},
   "source": [
    "# Step 3: Identifying face features"
   ]
  },
  {
   "cell_type": "code",
   "execution_count": 20,
   "metadata": {},
   "outputs": [],
   "source": [
    "import cv2\n",
    "import dlib"
   ]
  },
  {
   "cell_type": "code",
   "execution_count": 21,
   "metadata": {},
   "outputs": [],
   "source": [
    "# Load the detector\n",
    "detector = dlib.get_frontal_face_detector()"
   ]
  },
  {
   "cell_type": "code",
   "execution_count": 22,
   "metadata": {},
   "outputs": [],
   "source": [
    "# Load the predictor\n",
    "predictor = dlib.shape_predictor(\"E:/shape_predictor_68_face_landmarks.dat\")# Load the predictor\n",
    "predictor = dlib.shape_predictor(\"E:/shape_predictor_68_face_landmarks.dat\")"
   ]
  },
  {
   "cell_type": "code",
   "execution_count": 23,
   "metadata": {},
   "outputs": [],
   "source": [
    "# read the image\n",
    "img = cv2.imread(\"E:/face.jpeg\")"
   ]
  },
  {
   "cell_type": "code",
   "execution_count": 24,
   "metadata": {},
   "outputs": [],
   "source": [
    "# Convert image into grayscale\n",
    "gray = cv2.cvtColor(src=img, code=cv2.COLOR_BGR2GRAY)"
   ]
  },
  {
   "cell_type": "code",
   "execution_count": 25,
   "metadata": {},
   "outputs": [],
   "source": [
    "# Use detector to find landmarks\n",
    "faces = detector(gray)"
   ]
  },
  {
   "cell_type": "code",
   "execution_count": 26,
   "metadata": {},
   "outputs": [],
   "source": [
    "for face in faces:\n",
    "    x1 = face.left() # left point\n",
    "    y1 = face.top() # top point\n",
    "    x2 = face.right() # right point\n",
    "    y2 = face.bottom() # bottom point"
   ]
  },
  {
   "cell_type": "code",
   "execution_count": 28,
   "metadata": {},
   "outputs": [],
   "source": [
    "# Look for the landmarks\n",
    "landmarks = predictor(image=gray, box=face)\n",
    "x = landmarks.part(27).x\n",
    "y = landmarks.part(27).y"
   ]
  },
  {
   "cell_type": "code",
   "execution_count": 29,
   "metadata": {},
   "outputs": [
    {
     "data": {
      "text/plain": [
       "array([[[111, 134, 156],\n",
       "        [111, 134, 156],\n",
       "        [111, 134, 156],\n",
       "        ...,\n",
       "        [ 59,  54, 109],\n",
       "        [ 49,  44,  99],\n",
       "        [ 46,  41,  96]],\n",
       "\n",
       "       [[110, 133, 155],\n",
       "        [110, 133, 155],\n",
       "        [110, 133, 155],\n",
       "        ...,\n",
       "        [ 59,  54, 109],\n",
       "        [ 48,  43,  98],\n",
       "        [ 45,  40,  95]],\n",
       "\n",
       "       [[109, 132, 154],\n",
       "        [109, 132, 154],\n",
       "        [109, 132, 154],\n",
       "        ...,\n",
       "        [ 60,  55, 110],\n",
       "        [ 49,  44,  99],\n",
       "        [ 46,  41,  96]],\n",
       "\n",
       "       ...,\n",
       "\n",
       "       [[ 81,  34,  30],\n",
       "        [ 79,  32,  28],\n",
       "        [ 77,  30,  26],\n",
       "        ...,\n",
       "        [201,  78,  74],\n",
       "        [201,  78,  74],\n",
       "        [201,  78,  74]],\n",
       "\n",
       "       [[ 81,  34,  30],\n",
       "        [ 79,  32,  28],\n",
       "        [ 77,  30,  26],\n",
       "        ...,\n",
       "        [202,  79,  75],\n",
       "        [201,  78,  74],\n",
       "        [201,  78,  74]],\n",
       "\n",
       "       [[ 82,  35,  31],\n",
       "        [ 80,  33,  29],\n",
       "        [ 77,  30,  26],\n",
       "        ...,\n",
       "        [203,  80,  76],\n",
       "        [202,  79,  75],\n",
       "        [203,  80,  76]]], dtype=uint8)"
      ]
     },
     "execution_count": 29,
     "metadata": {},
     "output_type": "execute_result"
    }
   ],
   "source": [
    "# Draw a circle\n",
    "cv2.circle(img=img, center=(x, y), radius=5, color=(0, 255, 0), thickness=-1)"
   ]
  },
  {
   "cell_type": "code",
   "execution_count": 30,
   "metadata": {},
   "outputs": [],
   "source": [
    "# show the image\n",
    "cv2.imshow(winname=\"Face\", mat=img)\n"
   ]
  },
  {
   "cell_type": "code",
   "execution_count": 31,
   "metadata": {},
   "outputs": [
    {
     "data": {
      "text/plain": [
       "-1"
      ]
     },
     "execution_count": 31,
     "metadata": {},
     "output_type": "execute_result"
    }
   ],
   "source": [
    "# Wait for a key press to exit\n",
    "cv2.waitKey(delay=0)"
   ]
  },
  {
   "cell_type": "code",
   "execution_count": 32,
   "metadata": {},
   "outputs": [],
   "source": [
    "# Close all windows\n",
    "cv2.destroyAllWindows()"
   ]
  },
  {
   "cell_type": "markdown",
   "metadata": {},
   "source": [
    "# Render all the points in the landmark"
   ]
  },
  {
   "cell_type": "code",
   "execution_count": 33,
   "metadata": {},
   "outputs": [],
   "source": [
    "import cv2\n",
    "import numpy as np\n",
    "import dlib"
   ]
  },
  {
   "cell_type": "code",
   "execution_count": 34,
   "metadata": {},
   "outputs": [],
   "source": [
    "# Load the detector\n",
    "detector = dlib.get_frontal_face_detector()"
   ]
  },
  {
   "cell_type": "code",
   "execution_count": 35,
   "metadata": {},
   "outputs": [],
   "source": [
    "# Load the predictor\n",
    "predictor = dlib.shape_predictor(\"E:/shape_predictor_68_face_landmarks.dat\")"
   ]
  },
  {
   "cell_type": "code",
   "execution_count": 36,
   "metadata": {},
   "outputs": [],
   "source": [
    "# read the image\n",
    "img = cv2.imread(\"E:/face.jpeg\")"
   ]
  },
  {
   "cell_type": "code",
   "execution_count": 37,
   "metadata": {},
   "outputs": [],
   "source": [
    "# Convert image into grayscale\n",
    "gray = cv2.cvtColor(src=img, code=cv2.COLOR_BGR2GRAY)"
   ]
  },
  {
   "cell_type": "code",
   "execution_count": 38,
   "metadata": {},
   "outputs": [],
   "source": [
    "# Use detector to find landmarks\n",
    "faces = detector(gray)\n",
    "for face in faces:\n",
    "    x1 = face.left() # left point\n",
    "    y1 = face.top() # top point\n",
    "    x2 = face.right() # right point\n",
    "    y2 = face.bottom() # bottom point"
   ]
  },
  {
   "cell_type": "code",
   "execution_count": 39,
   "metadata": {},
   "outputs": [],
   "source": [
    "# Create landmark object\n",
    "landmarks = predictor(image=gray, box=face)"
   ]
  },
  {
   "cell_type": "code",
   "execution_count": 40,
   "metadata": {},
   "outputs": [],
   "source": [
    "# Loop through all the points\n",
    "for n in range(0, 68):\n",
    "        x = landmarks.part(n).x\n",
    "        y = landmarks.part(n).y"
   ]
  },
  {
   "cell_type": "code",
   "execution_count": 41,
   "metadata": {},
   "outputs": [
    {
     "data": {
      "text/plain": [
       "array([[[111, 134, 156],\n",
       "        [111, 134, 156],\n",
       "        [111, 134, 156],\n",
       "        ...,\n",
       "        [ 59,  54, 109],\n",
       "        [ 49,  44,  99],\n",
       "        [ 46,  41,  96]],\n",
       "\n",
       "       [[110, 133, 155],\n",
       "        [110, 133, 155],\n",
       "        [110, 133, 155],\n",
       "        ...,\n",
       "        [ 59,  54, 109],\n",
       "        [ 48,  43,  98],\n",
       "        [ 45,  40,  95]],\n",
       "\n",
       "       [[109, 132, 154],\n",
       "        [109, 132, 154],\n",
       "        [109, 132, 154],\n",
       "        ...,\n",
       "        [ 60,  55, 110],\n",
       "        [ 49,  44,  99],\n",
       "        [ 46,  41,  96]],\n",
       "\n",
       "       ...,\n",
       "\n",
       "       [[ 81,  34,  30],\n",
       "        [ 79,  32,  28],\n",
       "        [ 77,  30,  26],\n",
       "        ...,\n",
       "        [201,  78,  74],\n",
       "        [201,  78,  74],\n",
       "        [201,  78,  74]],\n",
       "\n",
       "       [[ 81,  34,  30],\n",
       "        [ 79,  32,  28],\n",
       "        [ 77,  30,  26],\n",
       "        ...,\n",
       "        [202,  79,  75],\n",
       "        [201,  78,  74],\n",
       "        [201,  78,  74]],\n",
       "\n",
       "       [[ 82,  35,  31],\n",
       "        [ 80,  33,  29],\n",
       "        [ 77,  30,  26],\n",
       "        ...,\n",
       "        [203,  80,  76],\n",
       "        [202,  79,  75],\n",
       "        [203,  80,  76]]], dtype=uint8)"
      ]
     },
     "execution_count": 41,
     "metadata": {},
     "output_type": "execute_result"
    }
   ],
   "source": [
    "# Draw a circle\n",
    "cv2.circle(img=img, center=(x, y), radius=3, color=(0, 255, 0), thickness=-1)"
   ]
  },
  {
   "cell_type": "code",
   "execution_count": 45,
   "metadata": {},
   "outputs": [],
   "source": [
    "# show the image\n",
    "cv2.imshow(winname=\"Face\", mat=img)"
   ]
  },
  {
   "cell_type": "code",
   "execution_count": 46,
   "metadata": {},
   "outputs": [
    {
     "data": {
      "text/plain": [
       "-1"
      ]
     },
     "execution_count": 46,
     "metadata": {},
     "output_type": "execute_result"
    }
   ],
   "source": [
    "# Delay between every fram\n",
    "cv2.waitKey(delay=0)"
   ]
  },
  {
   "cell_type": "code",
   "execution_count": 47,
   "metadata": {},
   "outputs": [],
   "source": [
    "# Close all windows\n",
    "cv2.destroyAllWindows()"
   ]
  },
  {
   "cell_type": "markdown",
   "metadata": {},
   "source": [
    "# Step 4: Real-time detection"
   ]
  },
  {
   "cell_type": "code",
   "execution_count": 48,
   "metadata": {},
   "outputs": [],
   "source": [
    "import cv2\n",
    "import dlib"
   ]
  },
  {
   "cell_type": "code",
   "execution_count": 49,
   "metadata": {},
   "outputs": [],
   "source": [
    "# Load the detector\n",
    "detector = dlib.get_frontal_face_detector()"
   ]
  },
  {
   "cell_type": "code",
   "execution_count": 50,
   "metadata": {},
   "outputs": [],
   "source": [
    "# Load the predictor\n",
    "predictor = dlib.shape_predictor(\"E:/shape_predictor_68_face_landmarks.dat\")"
   ]
  },
  {
   "cell_type": "code",
   "execution_count": null,
   "metadata": {},
   "outputs": [],
   "source": [
    "# read the image\n",
    "cap = cv2.VideoCapture(0)\n",
    "\n",
    "while True:\n",
    "    _, frame = cap.read()"
   ]
  },
  {
   "cell_type": "code",
   "execution_count": null,
   "metadata": {},
   "outputs": [],
   "source": [
    "# Convert image into grayscale\n",
    "gray = cv2.cvtColor(src=frame, code=cv2.COLOR_BGR2GRAY)"
   ]
  },
  {
   "cell_type": "code",
   "execution_count": null,
   "metadata": {},
   "outputs": [],
   "source": [
    "# Use detector to find landmarks\n",
    "faces = detector(gray)"
   ]
  },
  {
   "cell_type": "code",
   "execution_count": null,
   "metadata": {},
   "outputs": [],
   "source": [
    "for face in faces:\n",
    "        x1 = face.left()  # left point\n",
    "        y1 = face.top()  # top point\n",
    "        x2 = face.right()  # right point\n",
    "        y2 = face.bottom()  # bottom point"
   ]
  },
  {
   "cell_type": "code",
   "execution_count": null,
   "metadata": {},
   "outputs": [],
   "source": [
    "# Create landmark object\n",
    "landmarks = predictor(image=gray, box=face)"
   ]
  },
  {
   "cell_type": "code",
   "execution_count": null,
   "metadata": {},
   "outputs": [],
   "source": [
    "# Loop through all the points\n",
    "for n in range(0, 68):\n",
    "     x = landmarks.part(n).x\n",
    "    y = landmarks.part(n).y"
   ]
  },
  {
   "cell_type": "code",
   "execution_count": null,
   "metadata": {},
   "outputs": [],
   "source": [
    "# Draw a circle\n",
    "cv2.circle(img=frame, center=(x, y), radius=3, color=(0, 255, 0), thickness=-1)"
   ]
  },
  {
   "cell_type": "code",
   "execution_count": null,
   "metadata": {},
   "outputs": [],
   "source": [
    "# show the image\n",
    "cv2.imshow(winname=\"Face\", mat=frame)"
   ]
  },
  {
   "cell_type": "code",
   "execution_count": null,
   "metadata": {},
   "outputs": [],
   "source": [
    "# Exit when escape is pressed\n",
    "    if cv2.waitKey(delay=1) == 27:\n",
    "        break"
   ]
  },
  {
   "cell_type": "code",
   "execution_count": null,
   "metadata": {},
   "outputs": [],
   "source": [
    "# When everything done, release the video capture and video write objects\n",
    "cap.release()"
   ]
  },
  {
   "cell_type": "code",
   "execution_count": null,
   "metadata": {},
   "outputs": [],
   "source": [
    "# Close all windows\n",
    "cv2.destroyAllWindows()"
   ]
  },
  {
   "cell_type": "code",
   "execution_count": null,
   "metadata": {},
   "outputs": [],
   "source": []
  },
  {
   "cell_type": "code",
   "execution_count": null,
   "metadata": {},
   "outputs": [],
   "source": []
  }
 ],
 "metadata": {
  "kernelspec": {
   "display_name": "Python 3",
   "language": "python",
   "name": "python3"
  },
  "language_info": {
   "codemirror_mode": {
    "name": "ipython",
    "version": 3
   },
   "file_extension": ".py",
   "mimetype": "text/x-python",
   "name": "python",
   "nbconvert_exporter": "python",
   "pygments_lexer": "ipython3",
   "version": "3.7.5"
  }
 },
 "nbformat": 4,
 "nbformat_minor": 4
}
